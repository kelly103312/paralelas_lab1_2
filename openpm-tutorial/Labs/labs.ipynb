{
 "cells": [
  {
   "cell_type": "markdown",
   "metadata": {},
   "source": [
    "# Labs for the OpenMP Tutorial\n",
    "\n",
    "## Slides\n",
    "\n",
    "Get a copy of the slides going to [this link](https://drive.google.com/drive/folders/1f6n4tweuYZh8ojH9Eemg6BhHanhkAfy7?usp=sharing)\n",
    "\n",
    "## Labs\n",
    "\n",
    "Open the different labs and follow the instructions\n",
    "\n",
    "* [Lab 1](Lab1/lab1.ipynb)\n",
    "* [Lab 2](Lab2/lab2.ipynb)"
   ]
  }
 ],
 "metadata": {
  "kernelspec": {
   "display_name": "Python 3 (ipykernel)",
   "language": "python",
   "name": "python3"
  },
  "language_info": {
   "codemirror_mode": {
    "name": "ipython",
    "version": 3
   },
   "file_extension": ".py",
   "mimetype": "text/x-python",
   "name": "python",
   "nbconvert_exporter": "python",
   "pygments_lexer": "ipython3",
   "version": "3.10.11"
  },
  "vscode": {
   "interpreter": {
    "hash": "31f2aee4e71d21fbe5cf8b01ff0e069b9275f58929596ceb00d14d90e3e16cd6"
   }
  }
 },
 "nbformat": 4,
 "nbformat_minor": 4
}
